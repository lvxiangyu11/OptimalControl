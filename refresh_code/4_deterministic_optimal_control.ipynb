{
 "cells": [
  {
   "cell_type": "markdown",
   "id": "25a81bc3",
   "metadata": {},
   "source": [
    "# 在这一章我们主要讲 Pontragin's Minimum Principle 和 LQR 问题"
   ]
  },
  {
   "cell_type": "markdown",
   "id": "a9ebebdd",
   "metadata": {},
   "source": [
    "# 1. Pontragin's Minimum Principle\n"
   ]
  },
  {
   "cell_type": "markdown",
   "id": "0c2d48f8",
   "metadata": {},
   "source": []
  }
 ],
 "metadata": {
  "language_info": {
   "name": "python"
  }
 },
 "nbformat": 4,
 "nbformat_minor": 5
}
